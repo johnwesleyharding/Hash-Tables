{
 "cells": [
  {
   "cell_type": "code",
   "execution_count": 1,
   "metadata": {},
   "outputs": [],
   "source": [
    "import math\n",
    "import random"
   ]
  },
  {
   "cell_type": "code",
   "execution_count": 2,
   "metadata": {},
   "outputs": [],
   "source": [
    "def expensive_seq(x, y, z):\n",
    "        \n",
    "    if x <= 0:\n",
    "\n",
    "        return y + z\n",
    "            \n",
    "    if x not in cache:\n",
    "\n",
    "        cache[x] = expensive_seq(x - 3, y + 3, z * 3) + expensive_seq(x - 2, y + 2, z * 2) + expensive_seq(x - 1, y + 1, z)\n",
    "\n",
    "    return cache[x]"
   ]
  },
  {
   "cell_type": "code",
   "execution_count": 3,
   "metadata": {},
   "outputs": [
    {
     "data": {
      "text/plain": [
       "5004404707956518510917208352947554566524798323217374187445131901628"
      ]
     },
     "execution_count": 3,
     "metadata": {},
     "output_type": "execute_result"
    }
   ],
   "source": [
    "cache = {}\n",
    "expensive_seq(150, 400, 800)"
   ]
  },
  {
   "cell_type": "code",
   "execution_count": 4,
   "metadata": {},
   "outputs": [
    {
     "data": {
      "text/plain": [
       "[54, 34, 22, 18, 10]"
      ]
     },
     "execution_count": 4,
     "metadata": {},
     "output_type": "execute_result"
    }
   ],
   "source": [
    "q = (1, 3, 4, 7, 12)\n",
    "\n",
    "def f(x):\n",
    "    return x * 4 + 6\n",
    "\n",
    "r = [f(x) for x in q[-1::-1]]\n",
    "r"
   ]
  },
  {
   "cell_type": "code",
   "execution_count": 5,
   "metadata": {},
   "outputs": [
    {
     "name": "stdout",
     "output_type": "stream",
     "text": [
      "34 + 10  =  44  =  54 - 10\n",
      "10 + 34  =  44  =  54 - 10\n",
      "22 + 22  =  44  =  54 - 10\n",
      "22 + 10  =  32  =  54 - 22\n",
      "10 + 22  =  32  =  54 - 22\n",
      "18 + 18  =  36  =  54 - 18\n",
      "10 + 10  =  20  =  54 - 34\n"
     ]
    }
   ],
   "source": [
    "hash_sum, hash_dif = {}, {}\n",
    "\n",
    "l = len(r)\n",
    "\n",
    "for i in range(l):\n",
    "    \n",
    "    a = r[i]\n",
    "    \n",
    "    for j in range(i, l):\n",
    "        \n",
    "        b = r[j]\n",
    "        \n",
    "        hash_sum[(a, b)] = a + b\n",
    "        hash_sum[(b, a)] = b + a\n",
    "        hash_dif[(a, b)] = a - b\n",
    "        \n",
    "for k, v in hash_sum.items():\n",
    "    \n",
    "    for k2, v2 in hash_dif.items():\n",
    "        \n",
    "        if v == v2:\n",
    "            \n",
    "            print(f'{k[0]} + {k[1]}  =  {v}  =  {k2[0]} - {k2[1]}')"
   ]
  },
  {
   "cell_type": "code",
   "execution_count": 6,
   "metadata": {},
   "outputs": [
    {
     "data": {
      "text/plain": [
       "{(54, 54): 108,\n",
       " (54, 34): 88,\n",
       " (34, 54): 88,\n",
       " (54, 22): 76,\n",
       " (22, 54): 76,\n",
       " (54, 18): 72,\n",
       " (18, 54): 72,\n",
       " (54, 10): 64,\n",
       " (10, 54): 64,\n",
       " (34, 34): 68,\n",
       " (34, 22): 56,\n",
       " (22, 34): 56,\n",
       " (34, 18): 52,\n",
       " (18, 34): 52,\n",
       " (34, 10): 44,\n",
       " (10, 34): 44,\n",
       " (22, 22): 44,\n",
       " (22, 18): 40,\n",
       " (18, 22): 40,\n",
       " (22, 10): 32,\n",
       " (10, 22): 32,\n",
       " (18, 18): 36,\n",
       " (18, 10): 28,\n",
       " (10, 18): 28,\n",
       " (10, 10): 20}"
      ]
     },
     "execution_count": 6,
     "metadata": {},
     "output_type": "execute_result"
    }
   ],
   "source": [
    "hash_sum"
   ]
  },
  {
   "cell_type": "code",
   "execution_count": 7,
   "metadata": {},
   "outputs": [
    {
     "data": {
      "text/plain": [
       "{(54, 54): 0,\n",
       " (54, 34): 20,\n",
       " (54, 22): 32,\n",
       " (54, 18): 36,\n",
       " (54, 10): 44,\n",
       " (34, 34): 0,\n",
       " (34, 22): 12,\n",
       " (34, 18): 16,\n",
       " (34, 10): 24,\n",
       " (22, 22): 0,\n",
       " (22, 18): 4,\n",
       " (22, 10): 12,\n",
       " (18, 18): 0,\n",
       " (18, 10): 8,\n",
       " (10, 10): 0}"
      ]
     },
     "execution_count": 7,
     "metadata": {},
     "output_type": "execute_result"
    }
   ],
   "source": [
    "hash_min"
   ]
  },
  {
   "cell_type": "code",
   "execution_count": null,
   "metadata": {},
   "outputs": [],
   "source": []
  }
 ],
 "metadata": {
  "kernelspec": {
   "display_name": "Python 3",
   "language": "python",
   "name": "python3"
  },
  "language_info": {
   "codemirror_mode": {
    "name": "ipython",
    "version": 3
   },
   "file_extension": ".py",
   "mimetype": "text/x-python",
   "name": "python",
   "nbconvert_exporter": "python",
   "pygments_lexer": "ipython3",
   "version": "3.7.4"
  }
 },
 "nbformat": 4,
 "nbformat_minor": 4
}
