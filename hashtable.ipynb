{
 "cells": [
  {
   "cell_type": "code",
   "execution_count": 12,
   "metadata": {},
   "outputs": [],
   "source": [
    "class HashTableEntry:\n",
    "\n",
    "    def __init__(self, key, value):\n",
    "        \n",
    "        self.key = key\n",
    "        self.value = value\n",
    "        self.next = None\n",
    "\n",
    "\n",
    "class HashTable:\n",
    "    \n",
    "    def __init__(self, capacity):\n",
    "        \n",
    "        self.prime = 1099511628211\n",
    "        self.offset = 14695981039346656037\n",
    "        self.capacity = capacity\n",
    "        self.storage = [None] * self.capacity\n",
    "\n",
    "    def fnv1(self, key):\n",
    "\n",
    "        hash_bytes = key.encode()\n",
    "        total = self.offset\n",
    "    \n",
    "        for b in hash_bytes:\n",
    "            \n",
    "            total *= b * self.prime\n",
    "#             total ^= b\n",
    "\n",
    "        return total\n",
    "\n",
    "    def djb2(self, key):\n",
    "\n",
    "        pass\n",
    "\n",
    "    def hash_index(self, key):\n",
    "\n",
    "        return self.fnv1(key) % self.capacity\n",
    "\n",
    "    def put(self, key, value):\n",
    "        \n",
    "        index = self.hash_index(key)\n",
    "        \n",
    "        if self.storage[index] == None or self.storage[index].key == key:\n",
    "            \n",
    "            self.storage[index] = HashTableEntry(key, value)\n",
    "        \n",
    "        else:\n",
    "\n",
    "            node = self.storage[index]\n",
    "                \n",
    "            while node.next != None and node.next.key != key:\n",
    "\n",
    "                node = node.next\n",
    "\n",
    "            node.next = HashTableEntry(key, value)\n",
    "\n",
    "    def delete(self, key):\n",
    "        \n",
    "        index = self.hash_index(key)\n",
    "        self.storage[index] = None\n",
    "\n",
    "    def get(self, key):\n",
    "        \n",
    "        index = self.hash_index(key)\n",
    "        node = self.storage[index]\n",
    "        \n",
    "        if node != None:\n",
    "            \n",
    "            while node.key != key and node.next != None:\n",
    "                \n",
    "                node = node.next\n",
    "                \n",
    "            if node.key == key:\n",
    "                \n",
    "                return node.value\n",
    "\n",
    "    def resize(self):\n",
    "        \n",
    "        storage = self.storage\n",
    "        self.capacity *= 2\n",
    "        self.storage = [None] * self.capacity\n",
    "        \n",
    "        for entry in storage:\n",
    "            \n",
    "            if entry != None:\n",
    "                \n",
    "                self.put(entry.key, entry.value)\n",
    "                \n",
    "                while entry.next != None:\n",
    "                    \n",
    "                    entry = entry.next\n",
    "                    self.put(entry.key, entry.value)"
   ]
  },
  {
   "cell_type": "code",
   "execution_count": 13,
   "metadata": {},
   "outputs": [],
   "source": [
    "ht = HashTable(8)\n",
    "ht.put(\"key-0\", \"val-0\")\n",
    "ht.put(\"key-1\", \"val-1\")\n",
    "ht.put(\"key-2\", \"val-2\")\n",
    "ht.put(\"key-3\", \"val-3\")\n",
    "ht.put(\"key-4\", \"val-4\")\n",
    "ht.put(\"key-5\", \"val-5\")\n",
    "ht.put(\"key-6\", \"val-6\")\n",
    "ht.put(\"key-7\", \"val-7\")\n",
    "ht.put(\"key-8\", \"val-8\")\n",
    "ht.put(\"key-9\", \"val-9\")"
   ]
  },
  {
   "cell_type": "code",
   "execution_count": 14,
   "metadata": {},
   "outputs": [
    {
     "data": {
      "text/plain": [
       "'val-7'"
      ]
     },
     "execution_count": 14,
     "metadata": {},
     "output_type": "execute_result"
    }
   ],
   "source": [
    "ht.get(\"key-7\")"
   ]
  },
  {
   "cell_type": "code",
   "execution_count": 15,
   "metadata": {},
   "outputs": [
    {
     "data": {
      "text/plain": [
       "'val-8'"
      ]
     },
     "execution_count": 15,
     "metadata": {},
     "output_type": "execute_result"
    }
   ],
   "source": [
    "ht.get(\"key-8\")"
   ]
  },
  {
   "cell_type": "code",
   "execution_count": null,
   "metadata": {},
   "outputs": [],
   "source": []
  },
  {
   "cell_type": "code",
   "execution_count": null,
   "metadata": {},
   "outputs": [],
   "source": []
  },
  {
   "cell_type": "code",
   "execution_count": null,
   "metadata": {},
   "outputs": [],
   "source": []
  },
  {
   "cell_type": "code",
   "execution_count": 5,
   "metadata": {},
   "outputs": [],
   "source": [
    "ht = HashTable(0x10000)"
   ]
  },
  {
   "cell_type": "code",
   "execution_count": 6,
   "metadata": {},
   "outputs": [],
   "source": [
    "ht.put(\"key-0\", \"val-0\")\n",
    "ht.put(\"key-1\", \"val-1\")\n",
    "ht.put(\"key-2\", \"val-2\")"
   ]
  },
  {
   "cell_type": "code",
   "execution_count": 7,
   "metadata": {},
   "outputs": [
    {
     "data": {
      "text/plain": [
       "'val-3'"
      ]
     },
     "execution_count": 7,
     "metadata": {},
     "output_type": "execute_result"
    }
   ],
   "source": [
    "ht.put(\"key-0\", \"val-3\")\n",
    "ht.get(\"key-0\")"
   ]
  },
  {
   "cell_type": "code",
   "execution_count": 8,
   "metadata": {},
   "outputs": [
    {
     "name": "stdout",
     "output_type": "stream",
     "text": [
      "val-1\n"
     ]
    }
   ],
   "source": [
    "ht.put(\"key-1\", \"val-1\")\n",
    "print(ht.get(\"key-1\"))"
   ]
  },
  {
   "cell_type": "code",
   "execution_count": null,
   "metadata": {},
   "outputs": [],
   "source": []
  }
 ],
 "metadata": {
  "kernelspec": {
   "display_name": "Python 3",
   "language": "python",
   "name": "python3"
  },
  "language_info": {
   "codemirror_mode": {
    "name": "ipython",
    "version": 3
   },
   "file_extension": ".py",
   "mimetype": "text/x-python",
   "name": "python",
   "nbconvert_exporter": "python",
   "pygments_lexer": "ipython3",
   "version": "3.7.4"
  }
 },
 "nbformat": 4,
 "nbformat_minor": 4
}
