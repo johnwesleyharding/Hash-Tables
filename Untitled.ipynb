{
 "cells": [
  {
   "cell_type": "code",
   "execution_count": 6,
   "metadata": {},
   "outputs": [],
   "source": [
    "class HashTableEntry:\n",
    "\n",
    "    def __init__(self, key, value):\n",
    "        \n",
    "        self.key = key\n",
    "        self.value = value\n",
    "        self.next = None\n",
    "\n",
    "\n",
    "class HashTable:\n",
    "    \n",
    "    def __init__(self, capacity):\n",
    "        \n",
    "        self.prime = 1099511628211\n",
    "        self.offset = 14695981039346656037\n",
    "        self.capacity = capacity\n",
    "        self.storage = [None] * self.capacity\n",
    "\n",
    "    def fnv1(self, key):\n",
    "\n",
    "        hash_bytes = key.encode()\n",
    "        total = self.offset\n",
    "    \n",
    "        for b in hash_bytes:\n",
    "            \n",
    "            total *= b * self.prime\n",
    "#             total = b != total\n",
    "        \n",
    "        return total\n",
    "\n",
    "    def djb2(self, key):\n",
    "\n",
    "        pass\n",
    "\n",
    "    def hash_index(self, key):\n",
    "\n",
    "        return self.fnv1(key) % self.capacity\n",
    "\n",
    "    def put(self, key, value):\n",
    "        \n",
    "        index = self.hash_index(key)\n",
    "        print(index)\n",
    "        \n",
    "        if self.storage[index] == None:\n",
    "            self.storage[index] = HashTableEntry(key, value)\n",
    "        \n",
    "        else:\n",
    "            \n",
    "            node = self.storage[index]\n",
    "            \n",
    "            while node.next != None:\n",
    "                \n",
    "                node = node.next\n",
    "            \n",
    "            node.next = HashTableEntry(key, value)\n",
    "\n",
    "    def delete(self, key):\n",
    "        \n",
    "        index = self.hash_index(key)\n",
    "        self.storage[index] = None\n",
    "\n",
    "    def get(self, key):\n",
    "        \n",
    "        index = self.hash_index(key)\n",
    "        return self.storage[index].value\n",
    "\n",
    "    def resize(self):\n",
    "        \n",
    "        self.capacity *= 2\n",
    "        self.storage *= 2\n",
    "        \n",
    "        for entry in self.storage:\n",
    "            \n",
    "            if entry != None:                \n",
    "            \n",
    "                self.delete(entry.key)\n",
    "                self.put(entry.key, entry.value)"
   ]
  },
  {
   "cell_type": "code",
   "execution_count": 7,
   "metadata": {},
   "outputs": [],
   "source": [
    "ht = HashTable(0x10000)"
   ]
  },
  {
   "cell_type": "code",
   "execution_count": 8,
   "metadata": {},
   "outputs": [
    {
     "name": "stdout",
     "output_type": "stream",
     "text": [
      "46448\n",
      "3725\n",
      "26538\n"
     ]
    }
   ],
   "source": [
    "ht.put(\"key-0\", \"val-0\")\n",
    "ht.put(\"key-1\", \"val-1\")\n",
    "ht.put(\"key-2\", \"val-2\")"
   ]
  },
  {
   "cell_type": "code",
   "execution_count": 9,
   "metadata": {},
   "outputs": [
    {
     "data": {
      "text/plain": [
       "'val-0'"
      ]
     },
     "execution_count": 9,
     "metadata": {},
     "output_type": "execute_result"
    }
   ],
   "source": [
    "# ht.put(\"key-0\", \"val-0\")\n",
    "ht.get(\"key-0\")"
   ]
  },
  {
   "cell_type": "code",
   "execution_count": 10,
   "metadata": {},
   "outputs": [
    {
     "data": {
      "text/plain": [
       "'val-1'"
      ]
     },
     "execution_count": 10,
     "metadata": {},
     "output_type": "execute_result"
    }
   ],
   "source": [
    "# ht.put(\"key-1\", \"val-1\")\n",
    "ht.get(\"key-1\")"
   ]
  },
  {
   "cell_type": "code",
   "execution_count": null,
   "metadata": {},
   "outputs": [],
   "source": []
  }
 ],
 "metadata": {
  "kernelspec": {
   "display_name": "Python 3",
   "language": "python",
   "name": "python3"
  },
  "language_info": {
   "codemirror_mode": {
    "name": "ipython",
    "version": 3
   },
   "file_extension": ".py",
   "mimetype": "text/x-python",
   "name": "python",
   "nbconvert_exporter": "python",
   "pygments_lexer": "ipython3",
   "version": "3.7.4"
  }
 },
 "nbformat": 4,
 "nbformat_minor": 4
}
